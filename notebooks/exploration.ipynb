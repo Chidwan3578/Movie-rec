{
 "cells": [
  {
   "cell_type": "markdown",
   "id": "46f957b2",
   "metadata": {},
   "source": [
    "# Movie Recommender Notebook\n",
    "This notebook explores the dataset and tests recommendation logic."
   ]
  },
  {
   "cell_type": "code",
   "execution_count": null,
   "id": "df1f7483",
   "metadata": {},
   "outputs": [],
   "source": [
    "import pandas as pd \n",
    "movies = pd.read_csv(\"../data/movies.csv\") \n",
    "ratings = pd.read_csv(\"../data/ratings.csv\") \n",
    "movies.head()"
   ]
  },
  {
   "cell_type": "code",
   "execution_count": null,
   "id": "a7b017b3",
   "metadata": {},
   "outputs": [],
   "source": [
    "ratings.groupby('movieId')['rating'].agg(['count','mean']).sort_values('count', ascending=False).head()\n"
   ]
  },
  {
   "cell_type": "code",
   "execution_count": null,
   "id": "11b48479",
   "metadata": {},
   "outputs": [],
   "source": [
    "movies['genres_clean'] = movies['genres'].fillna('').str.replace('|',' ') \n",
    "movies['sample_meta'] = (movies['title'] + ' ' + movies['genres_clean']).str.lower() \n",
    "movies[['title','sample_meta']].head()"
   ]
  }
 ],
 "metadata": {
  "kernelspec": {
   "display_name": "venv",
   "language": "python",
   "name": "python3"
  },
  "language_info": {
   "codemirror_mode": {
    "name": "ipython",
    "version": 3
   },
   "file_extension": ".py",
   "mimetype": "text/x-python",
   "name": "python",
   "nbconvert_exporter": "python",
   "pygments_lexer": "ipython3",
   "version": "3.13.7"
  }
 },
 "nbformat": 4,
 "nbformat_minor": 5
}
